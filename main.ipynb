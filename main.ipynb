{
 "cells": [
  {
   "cell_type": "markdown",
   "id": "3d66eaf2",
   "metadata": {},
   "source": [
    "Step 1 : Install PyPDF Library to handle the pdf file\n"
   ]
  },
  {
   "cell_type": "code",
   "execution_count": 2,
   "id": "1b3b6e91",
   "metadata": {},
   "outputs": [
    {
     "name": "stdout",
     "output_type": "stream",
     "text": [
      "Collecting PyPDF2Note: you may need to restart the kernel to use updated packages.\n",
      "\n",
      "  Using cached pypdf2-3.0.1-py3-none-any.whl.metadata (6.8 kB)\n",
      "Using cached pypdf2-3.0.1-py3-none-any.whl (232 kB)\n",
      "Installing collected packages: PyPDF2\n",
      "Successfully installed PyPDF2-3.0.1\n"
     ]
    },
    {
     "name": "stderr",
     "output_type": "stream",
     "text": [
      "\n",
      "[notice] A new release of pip is available: 24.3.1 -> 25.2\n",
      "[notice] To update, run: C:\\Users\\amogh\\AppData\\Local\\Microsoft\\WindowsApps\\PythonSoftwareFoundation.Python.3.10_qbz5n2kfra8p0\\python.exe -m pip install --upgrade pip\n"
     ]
    }
   ],
   "source": [
    "pip install PyPDF2"
   ]
  },
  {
   "cell_type": "markdown",
   "id": "c1e9fe94",
   "metadata": {},
   "source": [
    "WorkFlow:-\n",
    "\n",
    "1. Ask the user for the folder containing PDFs\n",
    "2. List all PDF files in the folder\n",
    "3. Ask if they want to merge all or select specific ones\n",
    "4. Let them input the output file name\n",
    "5. Merge the PDFs and save the resul"
   ]
  },
  {
   "cell_type": "markdown",
   "id": "2d1181b7",
   "metadata": {},
   "source": [
    "Step 2 : Import Required Libraries"
   ]
  },
  {
   "cell_type": "code",
   "execution_count": 3,
   "id": "36bc8095",
   "metadata": {},
   "outputs": [],
   "source": [
    "import os\n",
    "from PyPDF2 import PdfMerger"
   ]
  }
 ],
 "metadata": {
  "kernelspec": {
   "display_name": "Python 3",
   "language": "python",
   "name": "python3"
  },
  "language_info": {
   "codemirror_mode": {
    "name": "ipython",
    "version": 3
   },
   "file_extension": ".py",
   "mimetype": "text/x-python",
   "name": "python",
   "nbconvert_exporter": "python",
   "pygments_lexer": "ipython3",
   "version": "3.10.11"
  }
 },
 "nbformat": 4,
 "nbformat_minor": 5
}
