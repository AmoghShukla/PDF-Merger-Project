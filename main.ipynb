{
 "cells": [
  {
   "cell_type": "markdown",
   "id": "3d66eaf2",
   "metadata": {},
   "source": [
    "Step 1 : Install PyPDF Library to handle the pdf file\n"
   ]
  },
  {
   "cell_type": "code",
   "execution_count": 2,
   "id": "1b3b6e91",
   "metadata": {},
   "outputs": [
    {
     "name": "stdout",
     "output_type": "stream",
     "text": [
      "Collecting PyPDF2Note: you may need to restart the kernel to use updated packages.\n",
      "\n",
      "  Using cached pypdf2-3.0.1-py3-none-any.whl.metadata (6.8 kB)\n",
      "Using cached pypdf2-3.0.1-py3-none-any.whl (232 kB)\n",
      "Installing collected packages: PyPDF2\n",
      "Successfully installed PyPDF2-3.0.1\n"
     ]
    },
    {
     "name": "stderr",
     "output_type": "stream",
     "text": [
      "\n",
      "[notice] A new release of pip is available: 24.3.1 -> 25.2\n",
      "[notice] To update, run: C:\\Users\\amogh\\AppData\\Local\\Microsoft\\WindowsApps\\PythonSoftwareFoundation.Python.3.10_qbz5n2kfra8p0\\python.exe -m pip install --upgrade pip\n"
     ]
    }
   ],
   "source": [
    "pip install PyPDF2"
   ]
  },
  {
   "cell_type": "markdown",
   "id": "c1e9fe94",
   "metadata": {},
   "source": [
    "WorkFlow:-\n",
    "\n",
    "1. Ask the user for the folder containing PDFs\n",
    "2. List all PDF files in the folder\n",
    "3. Ask if they want to merge all or select specific ones\n",
    "4. Let them input the output file name\n",
    "5. Merge the PDFs and save the resul"
   ]
  },
  {
   "cell_type": "markdown",
   "id": "2d1181b7",
   "metadata": {},
   "source": [
    "Step 2 : Import Required Libraries"
   ]
  },
  {
   "cell_type": "code",
   "execution_count": 3,
   "id": "36bc8095",
   "metadata": {},
   "outputs": [],
   "source": [
    "import os\n",
    "from PyPDF2 import PdfMerger"
   ]
  },
  {
   "cell_type": "markdown",
   "id": "56888883",
   "metadata": {},
   "source": [
    "Step 3 : Merge PDF Working function added  "
   ]
  },
  {
   "cell_type": "code",
   "execution_count": 4,
   "id": "6fb6154b",
   "metadata": {},
   "outputs": [],
   "source": [
    "def Merge_PDF(pdf_list, output):\n",
    "    merger = PdfMerger()\n",
    "    for pdf in pdf_list:\n",
    "        try :\n",
    "            merger.append(pdf)\n",
    "        except FileNotFoundError:\n",
    "            print(f\"File not found: {pdf}\")\n",
    "        except Exception as e:\n",
    "            print(f\"Error merging {pdf}: {e}\")\n",
    "    try :\n",
    "        merger.write(output)\n",
    "        print(f\"\\n🎉 PDF merged successfully into: {output}\")\n",
    "    except Exception as e:\n",
    "        print(f\"Error writing output file {output}: {e}\")\n",
    "    finally:\n",
    "        merger.close()"
   ]
  },
  {
   "cell_type": "markdown",
   "id": "1aee683d",
   "metadata": {},
   "source": [
    "Step 4 : Writing the Main Function"
   ]
  },
  {
   "cell_type": "code",
   "execution_count": null,
   "id": "e2d84583",
   "metadata": {},
   "outputs": [],
   "source": [
    "def main():\n",
    "    print(\"+++++++ PDF Merger Tool +++++++\")\n",
    "\n",
    "    folder = input(\"Folder containing PDFs: \").strip()\n",
    "    if not os.path.exists(folder):\n",
    "        print(\"❌ Folder not found.\")\n",
    "        return\n",
    "\n",
    "    # f for f in os.listdir(folder) if f.endswith(\".pdf\") will list all the PDF files in the folder\n",
    "    pdf_files = [f for f in os.listdir(folder) if f.endswith(\".pdf\")]\n",
    "\n",
    "    # if not pdf files are found then this part will execute\n",
    "    if not pdf_files:\n",
    "        print(\"❌ No PDF files found.\")\n",
    "        return\n",
    "\n",
    "    # If PDF files are found, this part will execute and list the files\n",
    "    print(\"\\n📂 Found PDFs:\")\n",
    "    for i, file in enumerate(pdf_files):  # this line will enumerate the PDF files means it will add a number to each file\n",
    "        print(f\"{i+1}. {file}\") # this line will print the number and the file name\n"
   ]
  }
 ],
 "metadata": {
  "kernelspec": {
   "display_name": "Python 3",
   "language": "python",
   "name": "python3"
  },
  "language_info": {
   "codemirror_mode": {
    "name": "ipython",
    "version": 3
   },
   "file_extension": ".py",
   "mimetype": "text/x-python",
   "name": "python",
   "nbconvert_exporter": "python",
   "pygments_lexer": "ipython3",
   "version": "3.10.11"
  }
 },
 "nbformat": 4,
 "nbformat_minor": 5
}
